{
 "cells": [
  {
   "cell_type": "code",
   "execution_count": 9,
   "id": "5dc7ebe8",
   "metadata": {},
   "outputs": [],
   "source": [
    "import pandas as pd\n",
    "import matplotlib.pyplot as plt\n",
    "from collections import Counter\n",
    "from itertools import combinations"
   ]
  },
  {
   "cell_type": "code",
   "execution_count": 3,
   "id": "a282160b",
   "metadata": {},
   "outputs": [],
   "source": [
    "df = pd.read_csv('customer_transactions.csv')"
   ]
  },
  {
   "cell_type": "code",
   "execution_count": 4,
   "id": "f22de098",
   "metadata": {},
   "outputs": [
    {
     "data": {
      "text/html": [
       "<div>\n",
       "<style scoped>\n",
       "    .dataframe tbody tr th:only-of-type {\n",
       "        vertical-align: middle;\n",
       "    }\n",
       "\n",
       "    .dataframe tbody tr th {\n",
       "        vertical-align: top;\n",
       "    }\n",
       "\n",
       "    .dataframe thead th {\n",
       "        text-align: right;\n",
       "    }\n",
       "</style>\n",
       "<table border=\"1\" class=\"dataframe\">\n",
       "  <thead>\n",
       "    <tr style=\"text-align: right;\">\n",
       "      <th></th>\n",
       "      <th>TransactionID</th>\n",
       "      <th>Sequence</th>\n",
       "    </tr>\n",
       "  </thead>\n",
       "  <tbody>\n",
       "    <tr>\n",
       "      <th>0</th>\n",
       "      <td>1</td>\n",
       "      <td>Apple, Banana, Cereal, Donut</td>\n",
       "    </tr>\n",
       "    <tr>\n",
       "      <th>1</th>\n",
       "      <td>2</td>\n",
       "      <td>Apple, Cereal, Donut</td>\n",
       "    </tr>\n",
       "    <tr>\n",
       "      <th>2</th>\n",
       "      <td>3</td>\n",
       "      <td>Banana, Donut</td>\n",
       "    </tr>\n",
       "    <tr>\n",
       "      <th>3</th>\n",
       "      <td>4</td>\n",
       "      <td>Apple, Donut</td>\n",
       "    </tr>\n",
       "    <tr>\n",
       "      <th>4</th>\n",
       "      <td>5</td>\n",
       "      <td>Apple, Banana, Cereal</td>\n",
       "    </tr>\n",
       "  </tbody>\n",
       "</table>\n",
       "</div>"
      ],
      "text/plain": [
       "   TransactionID                      Sequence\n",
       "0              1  Apple, Banana, Cereal, Donut\n",
       "1              2          Apple, Cereal, Donut\n",
       "2              3                 Banana, Donut\n",
       "3              4                  Apple, Donut\n",
       "4              5         Apple, Banana, Cereal"
      ]
     },
     "execution_count": 4,
     "metadata": {},
     "output_type": "execute_result"
    }
   ],
   "source": [
    "df.head()"
   ]
  },
  {
   "cell_type": "markdown",
   "id": "f3a4a990",
   "metadata": {},
   "source": [
    "## 3 chuỗi sản phẩm thường được mua chung"
   ]
  },
  {
   "cell_type": "markdown",
   "id": "c503c02d",
   "metadata": {},
   "source": [
    "#### Tách giao dịch"
   ]
  },
  {
   "cell_type": "code",
   "execution_count": 35,
   "id": "5921ab98",
   "metadata": {},
   "outputs": [
    {
     "data": {
      "text/plain": [
       "[['Apple', 'Banana', 'Cereal', 'Donut'],\n",
       " ['Apple', 'Cereal', 'Donut'],\n",
       " ['Banana', 'Donut'],\n",
       " ['Apple', 'Donut'],\n",
       " ['Apple', 'Banana', 'Cereal'],\n",
       " ['Cereal', 'Donut'],\n",
       " ['Apple', 'Banana', 'Donut'],\n",
       " ['Apple', 'Banana'],\n",
       " ['Banana', 'Cereal'],\n",
       " ['Apple', 'Cereal', 'Donut']]"
      ]
     },
     "execution_count": 35,
     "metadata": {},
     "output_type": "execute_result"
    }
   ],
   "source": [
    "transactions = df['Sequence'].apply(lambda x: x.split(', ')).tolist()\n",
    "transactions"
   ]
  },
  {
   "cell_type": "markdown",
   "id": "d9efbdbd",
   "metadata": {},
   "source": [
    "#### Max - Min sequence trong từng transactions"
   ]
  },
  {
   "cell_type": "code",
   "execution_count": 14,
   "id": "c35e4e91",
   "metadata": {},
   "outputs": [
    {
     "name": "stdout",
     "output_type": "stream",
     "text": [
      "Maximum number of transactions in a sequence: 4\n",
      "Minimum number of transactions in a sequence: 2\n"
     ]
    }
   ],
   "source": [
    "max_transactions = max(len(t) for t in transactions)\n",
    "print(f'Maximum number of transactions in a sequence: {max_transactions}')\n",
    "min_transactions = min(len(t) for t in transactions)\n",
    "print(f'Minimum number of transactions in a sequence: {min_transactions}')"
   ]
  },
  {
   "cell_type": "markdown",
   "id": "8a58e1d3",
   "metadata": {},
   "source": [
    "#### Đếm số lượng items trùng lặp trong các transactions"
   ]
  },
  {
   "cell_type": "code",
   "execution_count": 15,
   "id": "07f930a8",
   "metadata": {},
   "outputs": [],
   "source": [
    "combo_counter = Counter()\n",
    "for i in range(min_transactions, max_transactions + 1):\n",
    "    for transaction in transactions:\n",
    "        combo_counter.update(combinations(transaction, i))"
   ]
  },
  {
   "cell_type": "code",
   "execution_count": 26,
   "id": "c779a518",
   "metadata": {},
   "outputs": [
    {
     "data": {
      "text/html": [
       "<div>\n",
       "<style scoped>\n",
       "    .dataframe tbody tr th:only-of-type {\n",
       "        vertical-align: middle;\n",
       "    }\n",
       "\n",
       "    .dataframe tbody tr th {\n",
       "        vertical-align: top;\n",
       "    }\n",
       "\n",
       "    .dataframe thead th {\n",
       "        text-align: right;\n",
       "    }\n",
       "</style>\n",
       "<table border=\"1\" class=\"dataframe\">\n",
       "  <thead>\n",
       "    <tr style=\"text-align: right;\">\n",
       "      <th></th>\n",
       "      <th>Combination</th>\n",
       "      <th>Count</th>\n",
       "    </tr>\n",
       "  </thead>\n",
       "  <tbody>\n",
       "    <tr>\n",
       "      <th>0</th>\n",
       "      <td>(Apple, Donut)</td>\n",
       "      <td>5</td>\n",
       "    </tr>\n",
       "    <tr>\n",
       "      <th>1</th>\n",
       "      <td>(Apple, Banana)</td>\n",
       "      <td>4</td>\n",
       "    </tr>\n",
       "    <tr>\n",
       "      <th>2</th>\n",
       "      <td>(Apple, Cereal)</td>\n",
       "      <td>4</td>\n",
       "    </tr>\n",
       "    <tr>\n",
       "      <th>3</th>\n",
       "      <td>(Cereal, Donut)</td>\n",
       "      <td>4</td>\n",
       "    </tr>\n",
       "    <tr>\n",
       "      <th>4</th>\n",
       "      <td>(Banana, Cereal)</td>\n",
       "      <td>3</td>\n",
       "    </tr>\n",
       "    <tr>\n",
       "      <th>5</th>\n",
       "      <td>(Banana, Donut)</td>\n",
       "      <td>3</td>\n",
       "    </tr>\n",
       "    <tr>\n",
       "      <th>6</th>\n",
       "      <td>(Apple, Cereal, Donut)</td>\n",
       "      <td>3</td>\n",
       "    </tr>\n",
       "    <tr>\n",
       "      <th>7</th>\n",
       "      <td>(Apple, Banana, Cereal)</td>\n",
       "      <td>2</td>\n",
       "    </tr>\n",
       "    <tr>\n",
       "      <th>8</th>\n",
       "      <td>(Apple, Banana, Donut)</td>\n",
       "      <td>2</td>\n",
       "    </tr>\n",
       "    <tr>\n",
       "      <th>9</th>\n",
       "      <td>(Banana, Cereal, Donut)</td>\n",
       "      <td>1</td>\n",
       "    </tr>\n",
       "    <tr>\n",
       "      <th>10</th>\n",
       "      <td>(Apple, Banana, Cereal, Donut)</td>\n",
       "      <td>1</td>\n",
       "    </tr>\n",
       "  </tbody>\n",
       "</table>\n",
       "</div>"
      ],
      "text/plain": [
       "                       Combination  Count\n",
       "0                   (Apple, Donut)      5\n",
       "1                  (Apple, Banana)      4\n",
       "2                  (Apple, Cereal)      4\n",
       "3                  (Cereal, Donut)      4\n",
       "4                 (Banana, Cereal)      3\n",
       "5                  (Banana, Donut)      3\n",
       "6           (Apple, Cereal, Donut)      3\n",
       "7          (Apple, Banana, Cereal)      2\n",
       "8           (Apple, Banana, Donut)      2\n",
       "9          (Banana, Cereal, Donut)      1\n",
       "10  (Apple, Banana, Cereal, Donut)      1"
      ]
     },
     "execution_count": 26,
     "metadata": {},
     "output_type": "execute_result"
    }
   ],
   "source": [
    "combo_df = pd.DataFrame(combo_counter.items(), columns=['Combination', 'Count']).sort_values(by='Count', ascending=False).reset_index(drop=True)\n",
    "combo_df"
   ]
  },
  {
   "cell_type": "markdown",
   "id": "3a7c876c",
   "metadata": {},
   "source": [
    "#### Find the 3 most"
   ]
  },
  {
   "cell_type": "code",
   "execution_count": 27,
   "id": "1eec77bf",
   "metadata": {},
   "outputs": [
    {
     "data": {
      "text/html": [
       "<div>\n",
       "<style scoped>\n",
       "    .dataframe tbody tr th:only-of-type {\n",
       "        vertical-align: middle;\n",
       "    }\n",
       "\n",
       "    .dataframe tbody tr th {\n",
       "        vertical-align: top;\n",
       "    }\n",
       "\n",
       "    .dataframe thead th {\n",
       "        text-align: right;\n",
       "    }\n",
       "</style>\n",
       "<table border=\"1\" class=\"dataframe\">\n",
       "  <thead>\n",
       "    <tr style=\"text-align: right;\">\n",
       "      <th></th>\n",
       "      <th>Combination</th>\n",
       "      <th>Count</th>\n",
       "    </tr>\n",
       "  </thead>\n",
       "  <tbody>\n",
       "    <tr>\n",
       "      <th>0</th>\n",
       "      <td>(Apple, Donut)</td>\n",
       "      <td>5</td>\n",
       "    </tr>\n",
       "    <tr>\n",
       "      <th>1</th>\n",
       "      <td>(Apple, Banana)</td>\n",
       "      <td>4</td>\n",
       "    </tr>\n",
       "    <tr>\n",
       "      <th>2</th>\n",
       "      <td>(Apple, Cereal)</td>\n",
       "      <td>4</td>\n",
       "    </tr>\n",
       "  </tbody>\n",
       "</table>\n",
       "</div>"
      ],
      "text/plain": [
       "       Combination  Count\n",
       "0   (Apple, Donut)      5\n",
       "1  (Apple, Banana)      4\n",
       "2  (Apple, Cereal)      4"
      ]
     },
     "execution_count": 27,
     "metadata": {},
     "output_type": "execute_result"
    }
   ],
   "source": [
    "combo_df.head(3)"
   ]
  },
  {
   "cell_type": "markdown",
   "id": "3f723ea2",
   "metadata": {},
   "source": [
    "## Liệt kê giá trị Support của từng sản phẩm."
   ]
  },
  {
   "cell_type": "code",
   "execution_count": 54,
   "id": "f13f03e2",
   "metadata": {},
   "outputs": [],
   "source": [
    "indi_sequences = {}\n",
    "for transaction in transactions:\n",
    "    for item in transaction:\n",
    "        if item not in indi_sequences:\n",
    "            indi_sequences[item] = 1\n",
    "        else:\n",
    "            indi_sequences[item] += 1"
   ]
  },
  {
   "cell_type": "code",
   "execution_count": 55,
   "id": "18b01e06",
   "metadata": {},
   "outputs": [
    {
     "name": "stdout",
     "output_type": "stream",
     "text": [
      "Apple: 7\n",
      "Banana: 6\n",
      "Cereal: 6\n",
      "Donut: 7\n"
     ]
    }
   ],
   "source": [
    "for item, count in indi_sequences.items():\n",
    "    print(f'{item}: {count}')"
   ]
  }
 ],
 "metadata": {
  "kernelspec": {
   "display_name": "work",
   "language": "python",
   "name": "python3"
  },
  "language_info": {
   "codemirror_mode": {
    "name": "ipython",
    "version": 3
   },
   "file_extension": ".py",
   "mimetype": "text/x-python",
   "name": "python",
   "nbconvert_exporter": "python",
   "pygments_lexer": "ipython3",
   "version": "3.10.0"
  }
 },
 "nbformat": 4,
 "nbformat_minor": 5
}
